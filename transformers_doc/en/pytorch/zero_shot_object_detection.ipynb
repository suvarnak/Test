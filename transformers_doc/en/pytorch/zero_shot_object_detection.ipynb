{
  "cells": [
    {
      "cell_type": "code",
      "execution_count": null,
      "metadata": {
        "id": "K_cbkgOTed1T"
      },
      "outputs": [],
      "source": [
        "# Transformers installation\n",
        "! pip install transformers datasets evaluate accelerate\n",
        "# To install from source instead of the last release, comment the command above and uncomment the following one.\n",
        "# ! pip install git+https://github.com/huggingface/transformers.git"
      ]
    },
    {
      "cell_type": "markdown",
      "metadata": {
        "id": "RZdsufz8ed1V"
      },
      "source": [
        "# Zero-shot object detection"
      ]
    },
    {
      "cell_type": "markdown",
      "metadata": {
        "id": "dEZefBSBed1W"
      },
      "source": [
        "Traditionally, models used for [object detection](https://huggingface.co/docs/transformers/main/en/tasks/object_detection) require labeled image datasets for training,\n",
        "and are limited to detecting the set of classes from the training data.\n",
        "\n",
        "Zero-shot object detection is a computer vision task to detect objects and their classes in images, without any\n",
        "prior training or knowledge of the classes. Zero-shot object detection models receive an image as input, as well\n",
        "as a list of candidate classes, and output the bounding boxes and labels where the objects have been detected.\n",
        "\n",
        "> [!NOTE]\n",
        "> Hugging Face houses many such [open vocabulary zero shot object detectors](https://huggingface.co/models?pipeline_tag=zero-shot-object-detection).\n",
        "\n",
        "In this guide, you will learn how to use such models:\n",
        "- to detect objects based on text prompts\n",
        "- for batch object detection\n",
        "- for image-guided object detection\n",
        "\n",
        "Before you begin, make sure you have all the necessary libraries installed:\n",
        "\n",
        "```bash\n",
        "pip install -q transformers\n",
        "```"
      ]
    },
    {
      "cell_type": "markdown",
      "metadata": {
        "id": "AaHbo0tded1W"
      },
      "source": [
        "## Zero-shot object detection pipeline"
      ]
    },
    {
      "cell_type": "markdown",
      "metadata": {
        "id": "c31naqMked1X"
      },
      "source": [
        "The simplest way to try out inference with models is to use it in a [pipeline()](https://huggingface.co/docs/transformers/main/en/main_classes/pipelines#transformers.pipeline). Instantiate a pipeline\n",
        "for zero-shot object detection from a [checkpoint on the Hugging Face Hub](https://huggingface.co/models?pipeline_tag=zero-shot-object-detection):"
      ]
    },
    {
      "cell_type": "code",
      "execution_count": null,
      "metadata": {
        "id": "prNL8Rgped1X"
      },
      "outputs": [],
      "source": [
        "from transformers import pipeline\n",
        "\n",
        "# Use any checkpoint from the hf.co/models?pipeline_tag=zero-shot-object-detection\n",
        "checkpoint = \"iSEE-Laboratory/llmdet_large\"\n",
        "detector = pipeline(model=checkpoint, task=\"zero-shot-object-detection\")"
      ]
    },
    {
      "cell_type": "markdown",
      "metadata": {
        "id": "MVyOpqD8ed1X"
      },
      "source": [
        "Next, choose an image you'd like to detect objects in. Here we'll use the image of astronaut Eileen Collins that is\n",
        "a part of the [NASA](https://www.nasa.gov/multimedia/imagegallery/index.html) Great Images dataset."
      ]
    },
    {
      "cell_type": "code",
      "execution_count": null,
      "metadata": {
        "id": "H_RG7uCwed1X"
      },
      "outputs": [],
      "source": [
        "from transformers.image_utils import load_image\n",
        "\n",
        "url = \"https://huggingface.co/datasets/huggingface/documentation-images/resolve/main/transformers/tasks/zero-sh-obj-detection_1.png\"\n",
        "image = load_image(url)\n",
        "image"
      ]
    },
    {
      "cell_type": "markdown",
      "metadata": {
        "id": "Zt-QLFXved1Y"
      },
      "source": [
        "<div class=\"flex justify-center\">\n",
        "     <img src=\"https://huggingface.co/datasets/huggingface/documentation-images/resolve/main/transformers/tasks/zero-sh-obj-detection_1.png\" alt=\"Astronaut Eileen Collins\"/>\n",
        "</div>\n",
        "\n",
        "Pass the image and the candidate object labels to look for to the pipeline.\n",
        "Here we pass the image directly; other suitable options include a local path to an image or an image url. We also pass text descriptions for all items we want to query the image for."
      ]
    },
    {
      "cell_type": "code",
      "execution_count": null,
      "metadata": {
        "id": "YqsmG-_aed1Y"
      },
      "outputs": [],
      "source": [
        "predictions = detector(\n",
        "    image,\n",
        "    candidate_labels=[\"human face\", \"rocket\", \"nasa badge\", \"star-spangled banner\"],\n",
        "    threshold=0.45,\n",
        ")\n",
        "predictions"
      ]
    },
    {
      "cell_type": "markdown",
      "metadata": {
        "id": "4_MgC-lKed1Y"
      },
      "source": [
        "Let's visualize the predictions:"
      ]
    },
    {
      "cell_type": "code",
      "execution_count": null,
      "metadata": {
        "id": "ymb8WJtoed1Z"
      },
      "outputs": [],
      "source": [
        "from PIL import ImageDraw\n",
        "\n",
        "draw = ImageDraw.Draw(image)\n",
        "\n",
        "for prediction in predictions:\n",
        "    box = prediction[\"box\"]\n",
        "    label = prediction[\"label\"]\n",
        "    score = prediction[\"score\"]\n",
        "\n",
        "    xmin, ymin, xmax, ymax = box.values()\n",
        "    draw.rectangle((xmin, ymin, xmax, ymax), outline=\"red\", width=1)\n",
        "    draw.text((xmin, ymin), f\"{label}: {round(score,2)}\", fill=\"white\")\n",
        "\n",
        "image"
      ]
    },
    {
      "cell_type": "markdown",
      "metadata": {
        "id": "7FRlEsoZed1Z"
      },
      "source": [
        "<div class=\"flex justify-center\">\n",
        "     <img src=\"https://huggingface.co/datasets/huggingface/documentation-images/resolve/main/transformers/tasks/zero-sh-obj-detection_2.png\" alt=\"Visualized predictions on NASA image\"/>\n",
        "</div>"
      ]
    },
    {
      "cell_type": "markdown",
      "metadata": {
        "id": "olJqfidLed1Z"
      },
      "source": [
        "## Text-prompted zero-shot object detection by hand"
      ]
    },
    {
      "cell_type": "markdown",
      "metadata": {
        "id": "PzDUr4w5ed1Z"
      },
      "source": [
        "Now that you've seen how to use the zero-shot object detection pipeline, let's replicate the same result manually.\n",
        "\n",
        "Start by loading the model and associated processor from a [checkpoint on the Hugging Face Hub](https://huggingface.co/docs/transformers/main/en/tasks/hf.co/iSEE-Laboratory/llmdet_large).\n",
        "Here we'll use the same checkpoint as before:"
      ]
    },
    {
      "cell_type": "code",
      "execution_count": null,
      "metadata": {
        "id": "Va0Iyhtoed1Z"
      },
      "outputs": [],
      "source": [
        "from transformers import AutoProcessor, AutoModelForZeroShotObjectDetection\n",
        "\n",
        "model = AutoModelForZeroShotObjectDetection.from_pretrained(checkpoint, device_map=\"auto\")\n",
        "processor = AutoProcessor.from_pretrained(checkpoint)"
      ]
    },
    {
      "cell_type": "markdown",
      "metadata": {
        "id": "TPML5rTUed1Z"
      },
      "source": [
        "Let's take a different image to switch things up."
      ]
    },
    {
      "cell_type": "code",
      "execution_count": null,
      "metadata": {
        "id": "_WCUtZ9Ied1Z"
      },
      "outputs": [],
      "source": [
        "url = \"https://huggingface.co/datasets/huggingface/documentation-images/resolve/main/transformers/tasks/zero-sh-obj-detection_3.png\"\n",
        "image = load_image(url)\n",
        "image"
      ]
    },
    {
      "cell_type": "markdown",
      "metadata": {
        "id": "blvMWYpKed1Z"
      },
      "source": [
        "<div class=\"flex justify-center\">\n",
        "     <img src=\"https://huggingface.co/datasets/huggingface/documentation-images/resolve/main/transformers/tasks/zero-sh-obj-detection_3.png\" alt=\"Beach photo\"/>\n",
        "</div>\n",
        "\n",
        "Use the processor to prepare the inputs for the model."
      ]
    },
    {
      "cell_type": "code",
      "execution_count": null,
      "metadata": {
        "id": "XwzUHD6Red1Z"
      },
      "outputs": [],
      "source": [
        "text_labels = [\"hat\", \"book\", \"sunglasses\", \"camera\"]\n",
        "inputs = processor(text=text_labels, images=image, return_tensors=\"pt\")to(model.device)"
      ]
    },
    {
      "cell_type": "markdown",
      "metadata": {
        "id": "o17_uubded1Z"
      },
      "source": [
        "Pass the inputs through the model, post-process, and visualize the results. Since the image processor resized images before\n",
        "feeding them to the model, you need to use the `post_process_object_detection` method to make sure the predicted bounding\n",
        "boxes have the correct coordinates relative to the original image:"
      ]
    },
    {
      "cell_type": "code",
      "execution_count": null,
      "metadata": {
        "id": "w4u0zIUoed1a"
      },
      "outputs": [],
      "source": [
        "import torch\n",
        "\n",
        "with torch.inference_mode():\n",
        "    outputs = model(**inputs)\n",
        "\n",
        "results = processor.post_process_grounded_object_detection(\n",
        "   outputs, threshold=0.50, target_sizes=[(image.height, image.width)], text_labels=text_labels,"
      ]
    },
    {
      "cell_type": "code",
      "execution_count": null,
      "metadata": {
        "id": "4eE7JlTXed1a"
      },
      "outputs": [],
      "source": [
        "draw = ImageDraw.Draw(image)\n",
        "\n",
        "scores = results[\"scores\"]\n",
        "text_labels = results[\"text_labels\"]\n",
        "boxes = results[\"boxes\"]\n",
        "\n",
        "for box, score, text_label in zip(boxes, scores, text_labels):\n",
        "    xmin, ymin, xmax, ymax = box\n",
        "    draw.rectangle((xmin, ymin, xmax, ymax), outline=\"red\", width=1)\n",
        "    draw.text((xmin, ymin), f\"{text_label}: {round(score.item(),2)}\", fill=\"white\")\n",
        "\n",
        "image"
      ]
    },
    {
      "cell_type": "markdown",
      "metadata": {
        "id": "T7YPEmpDed1a"
      },
      "source": [
        "<div class=\"flex justify-center\">\n",
        "     <img src=\"https://huggingface.co/datasets/huggingface/documentation-images/resolve/main/transformers/tasks/zero-sh-obj-detection_4.png\" alt=\"Beach photo with detected objects\"/>\n",
        "</div>"
      ]
    },
    {
      "cell_type": "markdown",
      "metadata": {
        "id": "7MTMhaSFed1a"
      },
      "source": [
        "## Batch processing"
      ]
    },
    {
      "cell_type": "markdown",
      "metadata": {
        "id": "JXcJjy0ced1a"
      },
      "source": [
        "You can pass multiple sets of images and text queries to search for different (or same) objects in several images.\n",
        "Let's use both an astronaut image and the beach image together.\n",
        "For batch processing, you should pass text queries as a nested list to the processor and images as lists of PIL images,\n",
        "PyTorch tensors, or NumPy arrays."
      ]
    },
    {
      "cell_type": "code",
      "execution_count": null,
      "metadata": {
        "id": "FDuBY4qded1a"
      },
      "outputs": [],
      "source": [
        "url1 = \"https://huggingface.co/datasets/huggingface/documentation-images/resolve/main/transformers/tasks/zero-sh-obj-detection_1.png\"\n",
        "url2 = \"https://huggingface.co/datasets/huggingface/documentation-images/resolve/main/transformers/tasks/zero-sh-obj-detection_3.png\"\n",
        "images = [load_image(url1), load_image(url2)]\n",
        "text_queries = [\n",
        "    [\"human face\", \"rocket\", \"nasa badge\", \"star-spangled banner\"],\n",
        "    [\"hat\", \"book\", \"sunglasses\", \"camera\", \"can\"],\n",
        "]\n",
        "inputs = processor(text=text_queries, images=images, return_tensors=\"pt\", padding=True)"
      ]
    },
    {
      "cell_type": "markdown",
      "metadata": {
        "id": "KYyLNY5Ted1a"
      },
      "source": [
        "Previously for post-processing you passed the single image's size as a tensor, but you can also pass a tuple, or, in case\n",
        "of several images, a list of tuples. Let's create predictions for the two examples, and visualize the second one (`image_idx = 1`)."
      ]
    },
    {
      "cell_type": "code",
      "execution_count": null,
      "metadata": {
        "id": "neQxBnbUed1a"
      },
      "outputs": [],
      "source": [
        "with torch.no_grad():\n",
        "    outputs = model(**inputs)\n",
        "\n",
        "target_sizes = [(image.height, image.width) for image in images]\n",
        "results = processor.post_process_grounded_object_detection(\n",
        "    outputs, threshold=0.3, target_sizes=target_sizes, text_labels=text_labels,\n",
        ")"
      ]
    },
    {
      "cell_type": "markdown",
      "metadata": {
        "id": "oKew4MXhed1a"
      },
      "source": [
        "Let's visualize the results:"
      ]
    },
    {
      "cell_type": "code",
      "execution_count": null,
      "metadata": {
        "id": "5t0ZyeGied1a"
      },
      "outputs": [],
      "source": [
        "image_idx = 1\n",
        "draw = ImageDraw.Draw(images[image_idx])\n",
        "\n",
        "scores = results[image_idx][\"scores\"].tolist()\n",
        "text_labels = results[image_idx][\"text_labels\"]\n",
        "boxes = results[image_idx][\"boxes\"].tolist()\n",
        "\n",
        "for box, score, text_label in zip(boxes, scores, text_labels):\n",
        "    xmin, ymin, xmax, ymax = box\n",
        "    draw.rectangle((xmin, ymin, xmax, ymax), outline=\"red\", width=1)\n",
        "    draw.text((xmin, ymin), f\"{text_label}: {round(score,2)}\", fill=\"white\")\n",
        "\n",
        "images[image_idx]"
      ]
    },
    {
      "cell_type": "markdown",
      "metadata": {
        "id": "dAZjiwJ6ed1a"
      },
      "source": [
        "<div class=\"flex justify-center\">\n",
        "     <img src=\"https://huggingface.co/datasets/huggingface/documentation-images/resolve/main/transformers/tasks/zero-sh-obj-detection_4.png\" alt=\"Beach photo with detected objects\"/>\n",
        "</div>"
      ]
    },
    {
      "cell_type": "markdown",
      "metadata": {
        "id": "ppg_ydOUed1a"
      },
      "source": [
        "## Image-guided object detection"
      ]
    },
    {
      "cell_type": "markdown",
      "metadata": {
        "id": "Ux1GPjwXed1a"
      },
      "source": [
        "In addition to zero-shot object detection with text queries, models like [OWL-ViT](https://huggingface.co/collections/ariG23498/owlvit-689b0d0872a7634a6ea17ae7) and [OWLv2](https://huggingface.co/collections/ariG23498/owlv2-689b0d27bd7d96ba3c7f7530) offers image-guided object detection. This means you can use an image query to find similar\n",
        "objects in the target image."
      ]
    },
    {
      "cell_type": "code",
      "execution_count": null,
      "metadata": {
        "id": "Zl1bhFTled1a"
      },
      "outputs": [],
      "source": [
        "from transformers import AutoProcessor, AutoModelForZeroShotObjectDetection\n",
        "\n",
        "checkpoint = \"google/owlv2-base-patch16-ensemble\"\n",
        "model = AutoModelForZeroShotObjectDetection.from_pretrained(checkpoint, device_map=\"auto\")\n",
        "processor = AutoProcessor.from_pretrained(checkpoint)"
      ]
    },
    {
      "cell_type": "markdown",
      "metadata": {
        "id": "Z6aKD_uhed1b"
      },
      "source": [
        "Unlike text queries, only a single example image is allowed.\n",
        "\n",
        "Let's take an image with two cats on a couch as a target image, and an image of a single cat\n",
        "as a query:"
      ]
    },
    {
      "cell_type": "code",
      "execution_count": null,
      "metadata": {
        "id": "fCzrgDZQed1b"
      },
      "outputs": [],
      "source": [
        "url = \"http://images.cocodataset.org/val2017/000000039769.jpg\"\n",
        "image_target = Image.open(requests.get(url, stream=True).raw)\n",
        "\n",
        "query_url = \"http://images.cocodataset.org/val2017/000000524280.jpg\"\n",
        "query_image = Image.open(requests.get(query_url, stream=True).raw)"
      ]
    },
    {
      "cell_type": "markdown",
      "metadata": {
        "id": "L8Ccgn72ed1b"
      },
      "source": [
        "Let's take a quick look at the images:"
      ]
    },
    {
      "cell_type": "code",
      "execution_count": null,
      "metadata": {
        "id": "XFHn3Zpxed1b"
      },
      "outputs": [],
      "source": [
        "import matplotlib.pyplot as plt\n",
        "\n",
        "fig, ax = plt.subplots(1, 2)\n",
        "ax[0].imshow(image_target)\n",
        "ax[1].imshow(query_image)\n",
        "fig.show()"
      ]
    },
    {
      "cell_type": "markdown",
      "metadata": {
        "id": "izJHKWBYed1f"
      },
      "source": [
        "<div class=\"flex justify-center\">\n",
        "     <img src=\"https://huggingface.co/datasets/huggingface/documentation-images/resolve/main/transformers/tasks/zero-sh-obj-detection_5.png\" alt=\"Cats\"/>\n",
        "</div>\n",
        "\n",
        "In the preprocessing step, instead of text queries, you now need to use `query_images`:"
      ]
    },
    {
      "cell_type": "code",
      "execution_count": null,
      "metadata": {
        "id": "TTJb0stCed1f"
      },
      "outputs": [],
      "source": [
        "inputs = processor(images=image_target, query_images=query_image, return_tensors=\"pt\")"
      ]
    },
    {
      "cell_type": "markdown",
      "metadata": {
        "id": "-ighVpJ8ed1f"
      },
      "source": [
        "For predictions, instead of passing the inputs to the model, pass them to [image_guided_detection()](https://huggingface.co/docs/transformers/main/en/model_doc/owlvit#transformers.OwlViTForObjectDetection.image_guided_detection). Draw the predictions\n",
        "as before except now there are no labels."
      ]
    },
    {
      "cell_type": "code",
      "execution_count": null,
      "metadata": {
        "id": "nbbPZAr_ed1f"
      },
      "outputs": [],
      "source": [
        "with torch.no_grad():\n",
        "    outputs = model.image_guided_detection(**inputs)\n",
        "    target_sizes = torch.tensor([image_target.size[::-1]])\n",
        "    results = processor.post_process_image_guided_detection(outputs=outputs, target_sizes=target_sizes)[0]\n",
        "\n",
        "draw = ImageDraw.Draw(image_target)\n",
        "\n",
        "scores = results[\"scores\"].tolist()\n",
        "boxes = results[\"boxes\"].tolist()\n",
        "\n",
        "for box, score in zip(boxes, scores):\n",
        "    xmin, ymin, xmax, ymax = box\n",
        "    draw.rectangle((xmin, ymin, xmax, ymax), outline=\"white\", width=4)\n",
        "\n",
        "image_target"
      ]
    },
    {
      "cell_type": "markdown",
      "metadata": {
        "id": "BJvrWE1ned1f"
      },
      "source": [
        "<div class=\"flex justify-center\">\n",
        "     <img src=\"https://huggingface.co/datasets/huggingface/documentation-images/resolve/main/transformers/tasks/zero-sh-obj-detection_6.png\" alt=\"Cats with bounding boxes\"/>\n",
        "</div>"
      ]
    }
  ],
  "metadata": {
    "colab": {
      "provenance": [],
      "gpuType": "T4"
    },
    "language_info": {
      "name": "python"
    },
    "kernelspec": {
      "name": "python3",
      "display_name": "Python 3"
    },
    "accelerator": "GPU"
  },
  "nbformat": 4,
  "nbformat_minor": 0
}